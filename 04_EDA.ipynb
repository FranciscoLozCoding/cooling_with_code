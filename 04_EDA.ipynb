{
  "cells": [
    {
      "cell_type": "markdown",
      "metadata": {
        "id": "WU4Gan9pfkOp"
      },
      "source": [
        "# Set Up"
      ]
    },
    {
      "cell_type": "markdown",
      "metadata": {
        "id": "4yadpstgfkOq"
      },
      "source": [
        "Mount google drive, ignore if not using Google Collab:"
      ]
    },
    {
      "cell_type": "code",
      "execution_count": null,
      "metadata": {
        "id": "dB22ZwFKfkOr"
      },
      "outputs": [],
      "source": [
        "from google.colab import drive\n",
        "\n",
        "# mount google drive\n",
        "drive.mount('/content/drive')\n",
        "%cd /content/drive/My Drive\n",
        "!git clone https://github.com/FranciscoLozCoding/cooling_with_code.git\n",
        "%cd cooling_with_code\n",
        "!git pull"
      ]
    },
    {
      "cell_type": "markdown",
      "metadata": {
        "id": "yWNMowy1fkOr"
      },
      "source": [
        "Import libraries"
      ]
    },
    {
      "cell_type": "code",
      "execution_count": null,
      "metadata": {
        "id": "4E8kGomPfkOr"
      },
      "outputs": [],
      "source": [
        "# Supress Warnings\n",
        "import warnings\n",
        "warnings.filterwarnings('ignore')\n",
        "\n",
        "#data science\n",
        "import pandas as pd\n",
        "import numpy as np"
      ]
    },
    {
      "cell_type": "markdown",
      "metadata": {
        "id": "laKxcf7bfkOs"
      },
      "source": [
        "# Exploratory Data Analysis"
      ]
    },
    {
      "cell_type": "markdown",
      "metadata": {
        "id": "1Q4kzkeqfkOs"
      },
      "source": [
        "This notebook is for doing a Exploratory Data Analysis on our datasets. For details on the train/test dataset refer to our past notebooks:\n",
        "- [01_dataset_generation](/01_dataset_generation.ipynb)\n",
        "- [02_more_dataset_generation](/02_more_dataset_generation.ipynb)"
      ]
    },
    {
      "cell_type": "markdown",
      "metadata": {
        "id": "M84rFxabfkOs"
      },
      "source": [
        "## Feature Ranking"
      ]
    },
    {
      "cell_type": "markdown",
      "metadata": {
        "id": "ODsot9RXfkOs"
      },
      "source": [
        "## Cluster Analysis"
      ]
    },
    {
      "cell_type": "markdown",
      "source": [
        "## Distribution Analysis"
      ],
      "metadata": {
        "id": "YM1rFCRUicu9"
      }
    },
    {
      "cell_type": "markdown",
      "source": [
        ">TODO: check when you train/valid split the dataset if the distribution is kept in UHI"
      ],
      "metadata": {
        "id": "-x7jNHUnif4s"
      }
    },
    {
      "cell_type": "markdown",
      "source": [
        "## Sample Generation Analysis"
      ],
      "metadata": {
        "id": "EykJjoDCiu3u"
      }
    },
    {
      "cell_type": "markdown",
      "source": [
        ">TODO: What is a better name for this? In this section, I am trying to figure out if generating data is needed"
      ],
      "metadata": {
        "id": "n-pCm7vqi1GE"
      }
    },
    {
      "cell_type": "markdown",
      "metadata": {
        "id": "Ci7kVUQ4fkOs"
      },
      "source": [
        "## Other?"
      ]
    },
    {
      "cell_type": "markdown",
      "metadata": {
        "id": "nRhPXN8afkOt"
      },
      "source": [
        ">TODO: think of other analysis to do"
      ]
    }
  ],
  "metadata": {
    "kernelspec": {
      "display_name": "urban_heat",
      "language": "python",
      "name": "python3"
    },
    "language_info": {
      "codemirror_mode": {
        "name": "ipython",
        "version": 3
      },
      "file_extension": ".py",
      "mimetype": "text/x-python",
      "name": "python",
      "nbconvert_exporter": "python",
      "pygments_lexer": "ipython3",
      "version": "3.13.1"
    },
    "colab": {
      "provenance": []
    }
  },
  "nbformat": 4,
  "nbformat_minor": 0
}