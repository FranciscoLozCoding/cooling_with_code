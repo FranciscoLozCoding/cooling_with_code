{
  "cells": [
    {
      "cell_type": "markdown",
      "source": [
        "# Set Up"
      ],
      "metadata": {
        "id": "kqCIrAOC4HI0"
      }
    },
    {
      "cell_type": "markdown",
      "source": [
        "Import libraries"
      ],
      "metadata": {
        "id": "gNcmIgeg4QhT"
      }
    },
    {
      "cell_type": "code",
      "source": [
        "# Supress Warnings\n",
        "import warnings\n",
        "warnings.filterwarnings('ignore')\n",
        "from google.colab import drive"
      ],
      "metadata": {
        "id": "lcugNWTz4Q-5"
      },
      "execution_count": 1,
      "outputs": []
    },
    {
      "cell_type": "markdown",
      "source": [
        "Mount google drive, ignore if not using Google Collab:"
      ],
      "metadata": {
        "id": "6i6K7AM74Lkc"
      }
    },
    {
      "cell_type": "code",
      "source": [
        "# mount google drive\n",
        "drive.mount('/content/drive')\n",
        "%cd /content/drive/My Drive\n",
        "!git clone https://github.com/FranciscoLozCoding/cooling_with_code.git\n",
        "%cd cooling_with_code\n",
        "!git pull"
      ],
      "metadata": {
        "id": "sPKUPRCl4GgB",
        "outputId": "57cf9c66-caa2-4638-d1f4-c9c0af587b28",
        "colab": {
          "base_uri": "https://localhost:8080/"
        }
      },
      "execution_count": 2,
      "outputs": [
        {
          "output_type": "stream",
          "name": "stdout",
          "text": [
            "Mounted at /content/drive\n",
            "/content/drive/My Drive\n",
            "fatal: destination path 'cooling_with_code' already exists and is not an empty directory.\n",
            "/content/drive/My Drive/cooling_with_code\n",
            "remote: Enumerating objects: 27, done.\u001b[K\n",
            "remote: Counting objects: 100% (27/27), done.\u001b[K\n",
            "remote: Compressing objects: 100% (15/15), done.\u001b[K\n",
            "remote: Total 20 (delta 8), reused 15 (delta 4), pack-reused 0 (from 0)\u001b[K\n",
            "Unpacking objects: 100% (20/20), 2.60 MiB | 523.00 KiB/s, done.\n",
            "From https://github.com/FranciscoLozCoding/cooling_with_code\n",
            "   2e4f825..b665541  main       -> origin/main\n",
            "Updating 2e4f825..b665541\n",
            "Updating files: 100% (8/8), done.\n",
            "Fast-forward\n",
            " 02_more_dataset_generation.ipynb       |  6770 \u001b[32m++++++++++++++\u001b[m\u001b[31m--\u001b[m\n",
            " 03_simple_model_development.ipynb      |    25 \u001b[32m+\u001b[m\n",
            " data/test/100m_buffer_test_dataset.csv |  2082 \u001b[32m++\u001b[m\u001b[31m---\u001b[m\n",
            " data/test/150m_buffer_test_dataset.csv |  2082 \u001b[32m++\u001b[m\u001b[31m---\u001b[m\n",
            " data/test/50m_buffer_test_dataset.csv  |  2082 \u001b[32m++\u001b[m\u001b[31m---\u001b[m\n",
            " data/train/100m_buffer_dataset.csv     | 22460 \u001b[32m+++++++++++++++++++++++++\u001b[m\u001b[31m--------------------------\u001b[m\n",
            " data/train/150m_buffer_dataset.csv     | 22460 \u001b[32m+++++++++++++++++++++++++\u001b[m\u001b[31m--------------------------\u001b[m\n",
            " data/train/50m_buffer_dataset.csv      | 22460 \u001b[32m+++++++++++++++++++++++++\u001b[m\u001b[31m--------------------------\u001b[m\n",
            " 8 files changed, 43030 insertions(+), 37391 deletions(-)\n",
            " create mode 100644 03_simple_model_development.ipynb\n",
            "fatal: cannot exec '.git/hooks/post-merge': Permission denied\n"
          ]
        }
      ]
    },
    {
      "cell_type": "markdown",
      "metadata": {
        "id": "a651DXSc3pJ4"
      },
      "source": [
        "# Simple Model Development"
      ]
    },
    {
      "cell_type": "markdown",
      "metadata": {
        "id": "sIUULZr03pJ6"
      },
      "source": [
        "This notebook is for creating a simple model for us to use as a baseline comparison when creating our future models."
      ]
    }
  ],
  "metadata": {
    "language_info": {
      "name": "python"
    },
    "colab": {
      "provenance": []
    },
    "kernelspec": {
      "name": "python3",
      "display_name": "Python 3"
    }
  },
  "nbformat": 4,
  "nbformat_minor": 0
}