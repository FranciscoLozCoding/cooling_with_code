{
 "cells": [
  {
   "cell_type": "markdown",
   "metadata": {},
   "source": [
    "# Set Up"
   ]
  },
  {
   "cell_type": "markdown",
   "metadata": {},
   "source": [
    "## Mount Google Drive"
   ]
  },
  {
   "cell_type": "markdown",
   "metadata": {},
   "source": [
    "Ignore if not using Google Collab:"
   ]
  },
  {
   "cell_type": "code",
   "execution_count": null,
   "metadata": {},
   "outputs": [],
   "source": [
    "from google.colab import drive\n",
    "\n",
    "# mount google drive\n",
    "drive.mount('/content/drive')\n",
    "%cd /content/drive/My Drive\n",
    "!git clone https://github.com/FranciscoLozCoding/cooling_with_code.git\n",
    "%cd cooling_with_code\n",
    "!git pull"
   ]
  },
  {
   "cell_type": "markdown",
   "metadata": {},
   "source": [
    "## Import Libraries"
   ]
  },
  {
   "cell_type": "code",
   "execution_count": null,
   "metadata": {},
   "outputs": [],
   "source": [
    "# Supress Warnings\n",
    "import warnings\n",
    "warnings.filterwarnings('ignore')\n",
    "\n",
    "#data science\n",
    "import pandas as pd\n",
    "import numpy as np\n",
    "\n",
    "#custom tools\n",
    "from tools.environment import VALID_SPLIT, RANDOM_STATE\n",
    "from tools.feature_selection import load_and_prepare_data"
   ]
  },
  {
   "cell_type": "markdown",
   "metadata": {},
   "source": [
    "## Import Datasets"
   ]
  },
  {
   "cell_type": "code",
   "execution_count": null,
   "metadata": {},
   "outputs": [],
   "source": [
    "#load in datasets\n",
    "dataset = pd.read_csv('data/train/150m_buffer_dataset.csv')"
   ]
  },
  {
   "cell_type": "markdown",
   "metadata": {},
   "source": [
    "# Preprocessing"
   ]
  },
  {
   "cell_type": "markdown",
   "metadata": {},
   "source": [
    "This notebook is for applying what we learned in [04_EDA](/04_EDA.ipynb) on our dataset. For details on the train/test dataset refer to our past notebooks:\n",
    "- [01_dataset_generation](/01_dataset_generation.ipynb)\n",
    "- [02_more_dataset_generation](/02_more_dataset_generation.ipynb)\n",
    "\n",
    "Like stated in [04_EDA](/04_EDA.ipynb) we will only move forward with 150m Buffer dataset."
   ]
  }
 ],
 "metadata": {
  "kernelspec": {
   "display_name": "urban_heat",
   "language": "python",
   "name": "python3"
  },
  "language_info": {
   "name": "python",
   "version": "3.13.1"
  }
 },
 "nbformat": 4,
 "nbformat_minor": 2
}
