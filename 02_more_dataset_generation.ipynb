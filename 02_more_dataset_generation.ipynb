{
  "cells": [
    {
      "cell_type": "markdown",
      "metadata": {
        "id": "WyI9RarlIL0p"
      },
      "source": [
        "# Expanding on 01_dataset_generation"
      ]
    },
    {
      "cell_type": "markdown",
      "metadata": {
        "id": "mlIV60goITLq"
      },
      "source": [
        "This notebook is for expanding on [01_dataset_generation](/01_dataset_generation.ipynb), where we generated our initial dataset. After completing our first notebook we found more datasets that may be useful in developing our UHI model. Again, we may or may not add additional variables later in our pipeline"
      ]
    },
    {
      "cell_type": "markdown",
      "metadata": {
        "id": "1MMa_VoNI46Y"
      },
      "source": [
        "## Dataset Description"
      ]
    },
    {
      "cell_type": "markdown",
      "metadata": {
        "id": "b_oRxortJDty"
      },
      "source": [
        "Please relate to our [first notebook](/01_dataset_generation.ipynb) to find a description on our other datasets. This notebook will only explain our new datasets we found."
      ]
    },
    {
      "cell_type": "markdown",
      "metadata": {
        "id": "QO7lxNYMI9Nz"
      },
      "source": [
        "### Feature Datasets:"
      ]
    },
    {
      "cell_type": "markdown",
      "metadata": {
        "id": "2h75q_11KCol"
      },
      "source": [
        "- **Building Footprint Data with Additional Attributes**\n",
        "   - Data from NYC Office of Technology and Innovation (OTI)\n",
        "   - Useful for understanding the impact of buildings on local temperatures.\n",
        "   - This dataset has more attributes than **Building Footprint Data** such as Building height.\n",
        "\n",
        "- **Automated Traffic Volume Counts**\n",
        "   -  Data from New York City Department of Transportation (NYC DOT)\n",
        "   - Useful for understanding the impact of traffic on local temperatures."
      ]
    },
    {
      "cell_type": "markdown",
      "metadata": {
        "id": "cflQVvIaJssl"
      },
      "source": [
        ">NOTE: This is a developer note, **TODO**: Remember to minus the ground level from the building height. This will normalize all building so they compared from a equal ground level."
      ]
    },
    {
      "cell_type": "markdown",
      "metadata": {
        "id": "O5y0KNnrKI2u"
      },
      "source": [
        "## Combining The Data"
      ]
    },
    {
      "cell_type": "markdown",
      "metadata": {
        "id": "NiPGJ3ZmKK2x"
      },
      "source": [
        "### Set Up"
      ]
    },
    {
      "cell_type": "markdown",
      "metadata": {
        "id": "VlGyksAgKNEC"
      },
      "source": [
        "Download libraries not in google collab (can be disregarded if not using collab)"
      ]
    },
    {
      "cell_type": "code",
      "execution_count": null,
      "metadata": {
        "id": "AxhGfN0CKOmL"
      },
      "outputs": [],
      "source": [
        "%pip install stackstac\n",
        "%pip install pystac-client\n",
        "%pip install planetary-computer\n",
        "%pip install odc-stac\n",
        "%pip install rioxarray"
      ]
    },
    {
      "cell_type": "markdown",
      "metadata": {
        "id": "hNGvIAqAKQLu"
      },
      "source": [
        "Import libraries"
      ]
    },
    {
      "cell_type": "code",
      "execution_count": null,
      "metadata": {
        "id": "-jgA9XU7KSQ4"
      },
      "outputs": [],
      "source": [
        "# Supress Warnings\n",
        "import warnings\n",
        "warnings.filterwarnings('ignore')\n",
        "\n",
        "# Import common GIS tools\n",
        "import numpy as np\n",
        "import xarray as xr\n",
        "import matplotlib.pyplot as plt\n",
        "import rioxarray as rio\n",
        "import rasterio\n",
        "from matplotlib.cm import RdYlGn,jet,RdBu\n",
        "from google.colab import drive\n",
        "import geopandas as gpd\n",
        "from shapely.geometry import Point, Polygon\n",
        "from rasterio.mask import mask\n",
        "from shapely.ops import transform\n",
        "import pyproj\n",
        "import shapely.vectorized\n",
        "from geopy.distance import geodesic\n",
        "\n",
        "# Import Planetary Computer tools\n",
        "import stackstac\n",
        "import pystac_client\n",
        "import planetary_computer\n",
        "from odc.stac import stac_load\n",
        "\n",
        "#other libs\n",
        "import pandas as pd\n",
        "from tqdm import tqdm\n",
        "from joblib import Parallel, delayed\n",
        "from datetime import timedelta"
      ]
    },
    {
      "cell_type": "markdown",
      "metadata": {
        "id": "25f9gW4uKUBw"
      },
      "source": [
        "Mount google drive, ignore if not using Google Collab:"
      ]
    },
    {
      "cell_type": "code",
      "execution_count": null,
      "metadata": {
        "id": "9FCDngCCKVtO"
      },
      "outputs": [],
      "source": [
        "# mount google drive\n",
        "drive.mount('/content/drive')\n",
        "%cd /content/drive/My Drive\n",
        "!git clone https://github.com/FranciscoLozCoding/cooling_with_code.git\n",
        "%cd cooling_with_code\n",
        "!git pull"
      ]
    },
    {
      "cell_type": "markdown",
      "metadata": {
        "id": "fagTv4JZKXTw"
      },
      "source": [
        "### Helper Functions"
      ]
    },
    {
      "cell_type": "code",
      "execution_count": null,
      "metadata": {
        "id": "oy54aJhyKcma"
      },
      "outputs": [],
      "source": []
    },
    {
      "cell_type": "code",
      "execution_count": null,
      "metadata": {
        "id": "HV1hEGf6Kcyr"
      },
      "outputs": [],
      "source": []
    },
    {
      "cell_type": "code",
      "execution_count": null,
      "metadata": {
        "id": "eXiwK5SrKdJf"
      },
      "outputs": [],
      "source": []
    },
    {
      "cell_type": "markdown",
      "metadata": {
        "id": "VSOjJ1EUKdbx"
      },
      "source": [
        "### Discover and load the data for analysis"
      ]
    }
  ],
  "metadata": {
    "colab": {
      "provenance": []
    },
    "kernelspec": {
      "display_name": "Python 3",
      "name": "python3"
    },
    "language_info": {
      "name": "python"
    }
  },
  "nbformat": 4,
  "nbformat_minor": 0
}
